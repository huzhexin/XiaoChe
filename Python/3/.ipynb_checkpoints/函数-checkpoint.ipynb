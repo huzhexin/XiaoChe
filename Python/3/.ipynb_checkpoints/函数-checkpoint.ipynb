{
 "cells": [
  {
   "cell_type": "markdown",
   "id": "88e608f8",
   "metadata": {},
   "source": [
    "**基本上所有的高级语言都支持函数，Python也不例外。Python不但能非常灵活地定义函数，而且本身内置了很多有用的函数，可以直接调用。\n",
    "函数就是最基本的一种代码抽象的方式。**\n"
   ]
  },
  {
   "cell_type": "code",
   "execution_count": null,
   "id": "62afae27",
   "metadata": {},
   "outputs": [],
   "source": [
    "def 函数名():\n",
    "    代码块"
   ]
  },
  {
   "cell_type": "markdown",
   "id": "764e29d7",
   "metadata": {},
   "source": [
    "## 函数参数"
   ]
  },
  {
   "cell_type": "code",
   "execution_count": null,
   "id": "6b0a994d",
   "metadata": {},
   "outputs": [],
   "source": [
    "def sum(a,b): #形式参数：只是意义上的一种参数，在定义的时候是不占内存地址的\n",
    "    sum=a+b\n",
    "    print(sum)"
   ]
  },
  {
   "cell_type": "code",
   "execution_count": null,
   "id": "b19ac9fb",
   "metadata": {},
   "outputs": [],
   "source": [
    "sum(20,15) #20 15 实际参数：实参，实实在在的参数，是实际占用内存地址的"
   ]
  },
  {
   "cell_type": "code",
   "execution_count": null,
   "id": "a924a99c",
   "metadata": {},
   "outputs": [],
   "source": [
    "sum(15) #不能这样写的"
   ]
  },
  {
   "cell_type": "markdown",
   "id": "7510b844",
   "metadata": {},
   "source": [
    "## 函数返回值"
   ]
  },
  {
   "cell_type": "markdown",
   "id": "092d7133",
   "metadata": {},
   "source": [
    "### 返回一个值"
   ]
  },
  {
   "cell_type": "code",
   "execution_count": 3,
   "id": "656314fc",
   "metadata": {},
   "outputs": [
    {
     "data": {
      "text/plain": [
       "5"
      ]
     },
     "execution_count": 3,
     "metadata": {},
     "output_type": "execute_result"
    }
   ],
   "source": [
    "def Sum(a,b):\n",
    "    sum=a+b\n",
    "    return sum#将计算的结果返回\n",
    "Sum(2,3)"
   ]
  },
  {
   "cell_type": "markdown",
   "id": "f36ae501",
   "metadata": {},
   "source": [
    "### 返回多个值"
   ]
  },
  {
   "cell_type": "code",
   "execution_count": 2,
   "id": "b0269d46",
   "metadata": {},
   "outputs": [
    {
     "name": "stdout",
     "output_type": "stream",
     "text": [
      "12 6 27\n"
     ]
    }
   ],
   "source": [
    "def Calc(a,b):\n",
    "    return(a+b),(a-b),(a*b)\n",
    "t1,t2,t3 = Calc(9,3)\n",
    "print(t1,t2,t3)"
   ]
  },
  {
   "cell_type": "markdown",
   "id": "d5db0d07",
   "metadata": {},
   "source": [
    "### 返回列表或者字典"
   ]
  },
  {
   "cell_type": "code",
   "execution_count": 5,
   "id": "6de23dd3",
   "metadata": {},
   "outputs": [
    {
     "name": "stdout",
     "output_type": "stream",
     "text": [
      "{'name': '测试'}\n"
     ]
    }
   ],
   "source": [
    "def returnDic():\n",
    "    di = {\"name\":\"测试\"}\n",
    "    return di\n",
    "dic = returnTuple()\n",
    "print(dic)"
   ]
  },
  {
   "cell_type": "code",
   "execution_count": 6,
   "id": "52871927",
   "metadata": {},
   "outputs": [
    {
     "name": "stdout",
     "output_type": "stream",
     "text": [
      "['a', 1, 'python']\n"
     ]
    }
   ],
   "source": [
    "def returnList():\n",
    "    list = [\"a\",1,\"python\"]\n",
    "    return list\n",
    "list = returnList()\n",
    "print(list)"
   ]
  },
  {
   "cell_type": "markdown",
   "id": "1867545f",
   "metadata": {},
   "source": [
    "### 递归函数 如果一个函数在内部不调用其它的函数，而是自己本身的话，这个函数就是递归函数。\n"
   ]
  },
  {
   "cell_type": "code",
   "execution_count": 7,
   "id": "e5fecd47",
   "metadata": {},
   "outputs": [
    {
     "data": {
      "text/plain": [
       "120"
      ]
     },
     "execution_count": 7,
     "metadata": {},
     "output_type": "execute_result"
    }
   ],
   "source": [
    "# 求阶乘 5! = 5*4*3*2*1\n",
    "def factorial (n):\n",
    "    if n == 1:\n",
    "        return 1 \n",
    "    return n * factorial (n-1)\n",
    "\n",
    "factorial(5)"
   ]
  },
  {
   "cell_type": "markdown",
   "id": "dc122266",
   "metadata": {},
   "source": [
    "### 当然函数还有一部分知识我们没有提到，用的不多，大家有时间也可以自己去了解了解。比如函数的传递是值传递还是引用传递，匿名函数，全局变量与局部变量等\n",
    "\n",
    "\n",
    "\n",
    "\n",
    "\n",
    "\n",
    "\n",
    "\n"
   ]
  },
  {
   "cell_type": "markdown",
   "id": "505ea056",
   "metadata": {},
   "source": [
    "# 作业"
   ]
  },
  {
   "cell_type": "markdown",
   "id": "c25199ec",
   "metadata": {},
   "source": [
    "1. 完成一个函数，输入一个数字列表，将返回列表中的所有偶数。（将偶数放入一个列表中，返回该列表）\n",
    "\n",
    "示例：输入[1,2,3,4,5,6]\n",
    "     返回[2,4,6]\n",
    "    \n",
    "    \n",
    "    \n",
    "2.完成一个函数，传入小明的身高与体重，传出小明的BIM指数对应的结果\n",
    "（低于18.5：过轻    18.5-25：正常    25-28：过重      28-32：肥胖     高于32：严重肥胖）\n",
    "示例：输入180 71\n",
    "      输出 正常"
   ]
  }
 ],
 "metadata": {
  "kernelspec": {
   "display_name": "Python 3 (ipykernel)",
   "language": "python",
   "name": "python3"
  },
  "language_info": {
   "codemirror_mode": {
    "name": "ipython",
    "version": 3
   },
   "file_extension": ".py",
   "mimetype": "text/x-python",
   "name": "python",
   "nbconvert_exporter": "python",
   "pygments_lexer": "ipython3",
   "version": "3.10.4"
  }
 },
 "nbformat": 4,
 "nbformat_minor": 5
}
